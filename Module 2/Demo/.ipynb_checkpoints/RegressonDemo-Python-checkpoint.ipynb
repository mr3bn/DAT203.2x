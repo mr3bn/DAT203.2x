{
 "cells": [
  {
   "cell_type": "markdown",
   "metadata": {},
   "source": [
    "# Understanding Regression with Python\n",
    "\n",
    "## Introduction\n",
    "\n",
    "This notebook uses a simple Python simulation to illustrate some basic principles of regression models. Specifically, this notebook proceeds through the following steps. \n",
    "\n",
    "- Create a test data set.\n",
    "- Plot the data set.\n",
    "- Compute and plot the results of a linear regression model on these data.\n",
    "- Compute and plot the results of linear regression models for data sets with increassing dispursion of theh data.\n",
    "- Compute and plot the results of linear regression models for data sets with outliers."
   ]
  },
  {
   "cell_type": "markdown",
   "metadata": {},
   "source": [
    "## Create the data set\n",
    "\n",
    "The code in the cell below computes the data set. The data are along a straight line with intercept of 0 and a slope of 1, with Normally distributed noise added. Run this code and examine the first few lines of the data frame."
   ]
  },
  {
   "cell_type": "code",
   "execution_count": 2,
   "metadata": {},
   "outputs": [
    {
     "data": {
      "text/html": [
       "<div>\n",
       "<style>\n",
       "    .dataframe thead tr:only-child th {\n",
       "        text-align: right;\n",
       "    }\n",
       "\n",
       "    .dataframe thead th {\n",
       "        text-align: left;\n",
       "    }\n",
       "\n",
       "    .dataframe tbody tr th {\n",
       "        vertical-align: top;\n",
       "    }\n",
       "</style>\n",
       "<table border=\"1\" class=\"dataframe\">\n",
       "  <thead>\n",
       "    <tr style=\"text-align: right;\">\n",
       "      <th></th>\n",
       "      <th>x</th>\n",
       "      <th>y</th>\n",
       "    </tr>\n",
       "  </thead>\n",
       "  <tbody>\n",
       "    <tr>\n",
       "      <th>0</th>\n",
       "      <td>0.000000</td>\n",
       "      <td>-1.361740</td>\n",
       "    </tr>\n",
       "    <tr>\n",
       "      <th>1</th>\n",
       "      <td>0.204082</td>\n",
       "      <td>-0.928085</td>\n",
       "    </tr>\n",
       "    <tr>\n",
       "      <th>2</th>\n",
       "      <td>0.408163</td>\n",
       "      <td>-1.922669</td>\n",
       "    </tr>\n",
       "    <tr>\n",
       "      <th>3</th>\n",
       "      <td>0.612245</td>\n",
       "      <td>-0.754523</td>\n",
       "    </tr>\n",
       "    <tr>\n",
       "      <th>4</th>\n",
       "      <td>0.816327</td>\n",
       "      <td>1.344264</td>\n",
       "    </tr>\n",
       "  </tbody>\n",
       "</table>\n",
       "</div>"
      ],
      "text/plain": [
       "          x         y\n",
       "0  0.000000 -1.361740\n",
       "1  0.204082 -0.928085\n",
       "2  0.408163 -1.922669\n",
       "3  0.612245 -0.754523\n",
       "4  0.816327  1.344264"
      ]
     },
     "execution_count": 2,
     "metadata": {},
     "output_type": "execute_result"
    }
   ],
   "source": [
    "def sim_reg_data(xmin, xmax, ymin, ymax, n, sd):\n",
    "    import pandas as pd\n",
    "    import numpy.random as nr\n",
    "    \n",
    "    w = nr.normal(loc = 0, scale = sd, size = n)\n",
    "\n",
    "    xstep = float(xmax - xmin)/float(n - 1)\n",
    "    ystep = float(ymax - ymin)/float(n - 1)\n",
    "    \n",
    "    x = []\n",
    "    xcur = xmin\n",
    "    y = []\n",
    "    ycur = ymin \n",
    "    for i in range(n):\n",
    "        x.append(xcur)\n",
    "        xcur += xstep\n",
    "        y.append(ycur + w[i])\n",
    "        ycur += ystep\n",
    "    \n",
    "    out = pd.DataFrame([x, y]).transpose()\n",
    "    out.columns = ['x', 'y']    \n",
    "    return out      \n",
    "sim_data = sim_reg_data(0, 10, 0, 10, 50, 1)\n",
    "sim_data.head()"
   ]
  },
  {
   "cell_type": "markdown",
   "metadata": {},
   "source": [
    "## Plot the data set\n",
    "\n",
    "Run the code in the cell below to plot the data set. Notice that the data falls close to a stright line."
   ]
  },
  {
   "cell_type": "code",
   "execution_count": 3,
   "metadata": {},
   "outputs": [
    {
     "data": {
      "text/plain": [
       "'Done'"
      ]
     },
     "execution_count": 3,
     "metadata": {},
     "output_type": "execute_result"
    },
    {
     "data": {
      "image/png": "[encoded data removed]",
      "text/plain": [
       "<matplotlib.figure.Figure at 0x939c630>"
      ]
     },
     "metadata": {},
     "output_type": "display_data"
    }
   ],
   "source": [
    "%matplotlib inline\n",
    "def plot_2D(df):\n",
    "    import matplotlib.pyplot as plt\n",
    "    fig = plt.figure(figsize=(8, 6))\n",
    "    fig.clf()\n",
    "    ax = fig.gca()\n",
    "    df.plot(kind = 'scatter', x = 'x', y = 'y', ax = ax, alpha = 0.5)\n",
    "    ax.set_xlabel('X')\n",
    "    ax.set_ylabel('Y')\n",
    "    ax.set_title('X vs. Y')\n",
    "    return 'Done'\n",
    "plot_2D(sim_data)"
   ]
  },
  {
   "cell_type": "markdown",
   "metadata": {},
   "source": [
    "## Compute and evaluate the regression model\n",
    "\n",
    "The code in the cell below does the following:\n",
    "\n",
    "- The linear regression model is computed and scored using scikit-learn.\n",
    "- The regression line is ploted along with a histogram of the residuals.\n",
    "- Some model performance statistics are computed.\n",
    "\n",
    "One of the performance statistics used in adjusted $R^2_{adj}$:\n",
    "\n",
    "$$R^2_{adj} = 1 - \\frac{n-1}{n-p-1} \\frac{Sum\\ square\\ residual}{Sum\\ square\\ total}\\\\\n",
    "where,\\ p = number\\ of\\ model\\ parameters$$\n",
    "\n",
    "Run this code and examine the results. Notice that the intercept and slope are close the exact values. The regression line is shown on the left plot. The histogram of the residuals is shown on the right. The residuals are approximately Normally distributed."
   ]
  },
  {
   "cell_type": "code",
   "execution_count": 1,
   "metadata": {},
   "outputs": [
    {
     "ename": "NameError",
     "evalue": "name 'sim_data' is not defined",
     "output_type": "error",
     "traceback": [
      "\u001b[1;31m---------------------------------------------------------------------------\u001b[0m",
      "\u001b[1;31mNameError\u001b[0m                                 Traceback (most recent call last)",
      "\u001b[1;32m<ipython-input-1-3e5f8028fc3f>\u001b[0m in \u001b[0;36m<module>\u001b[1;34m()\u001b[0m\n\u001b[0;32m     40\u001b[0m     \u001b[1;32mprint\u001b[0m\u001b[1;33m(\u001b[0m\u001b[1;34m'Adjusted R^2 = '\u001b[0m\u001b[1;33m,\u001b[0m \u001b[0mstr\u001b[0m\u001b[1;33m(\u001b[0m\u001b[0mR2_adj\u001b[0m\u001b[1;33m)\u001b[0m\u001b[1;33m)\u001b[0m\u001b[1;33m\u001b[0m\u001b[0m\n\u001b[0;32m     41\u001b[0m     \u001b[1;32mreturn\u001b[0m \u001b[1;34m'  '\u001b[0m\u001b[1;33m\u001b[0m\u001b[0m\n\u001b[1;32m---> 42\u001b[1;33m \u001b[0mplot_reg\u001b[0m\u001b[1;33m(\u001b[0m\u001b[0msim_data\u001b[0m\u001b[1;33m)\u001b[0m\u001b[1;33m\u001b[0m\u001b[0m\n\u001b[0m",
      "\u001b[1;31mNameError\u001b[0m: name 'sim_data' is not defined"
     ]
    }
   ],
   "source": [
    "def plot_reg(df):\n",
    "    import matplotlib.pyplot as plt\n",
    "    from sklearn import linear_model\n",
    "    import math\n",
    "\n",
    "    ## Prepare data for model\n",
    "    nrow = df.shape[0]\n",
    "    X = df.x.as_matrix().reshape((nrow,1))\n",
    "    Y = df.y.as_matrix()\n",
    "    ## Compute the linear model\n",
    "    clf = linear_model.LinearRegression()\n",
    "    lm = clf.fit(X, Y)\n",
    "    ## Compute the y values\n",
    "    df['lm_Y'] = lm.predict(X)   \n",
    "    df.sort_values(by='x', ascending=True, inplace = True)\n",
    "\n",
    "    fig, ax = plt.subplots(1, 2, figsize = (12,6))\n",
    "    df.plot(kind = 'scatter', x = 'x', y = 'y', ax = ax[0], alpha = 0.5)\n",
    "    df.plot(kind = 'line', x = 'x', y = 'lm_Y', style = ['r'], ax = ax[0])  \n",
    "    ax[0].set_xlabel('X')\n",
    "    ax[0].set_ylabel('Y')\n",
    "    ax[0].set_title('X vs. Y')\n",
    "    \n",
    "    \n",
    "    df['resids'] = (df.lm_Y - df.y)    \n",
    "    ax[1].hist(df['resids'], bins = 30, alpha = 0.7) \n",
    "    ax[1].set_xlabel('Residual')\n",
    "    ax[1].set_ylabel('Count')\n",
    "    ax[1].set_title('Histogram of Residuals')  \n",
    "    \n",
    "    SSR = sum([x*x for x in df.resids])\n",
    "    Ybar = df.y.mean()\n",
    "    SST = sum([(x - Ybar)**2 for x in df.y])\n",
    "    R2_adj = 1.0 - (SSR/SST) * ((nrow - 1)/(nrow - 3))\n",
    "    print(str(Ybar))\n",
    "    print(str(SSR))\n",
    "    print(str(SST))\n",
    "    print('Intercept = ' + str(lm.intercept_))\n",
    "    print('Slope = ' + str(lm.coef_[0]))\n",
    "    print('Adjusted R^2 = ', str(R2_adj))\n",
    "    return '  '\n",
    "plot_reg(sim_data)"
   ]
  },
  {
   "cell_type": "markdown",
   "metadata": {},
   "source": [
    "## Regression with increasing data dispursion\n",
    "\n",
    "The code in the cell below computes data sets with inceasing dispursion (standard deviation); 1, 5 and 10. The regression model is plotted and evaluated for each data set.\n",
    "\n",
    "Run this code and examine the results. Notice that the accuracy of the model and dispursion of the residuals of the models increses with increasing dispursion of the data."
   ]
  },
  {
   "cell_type": "code",
   "execution_count": null,
   "metadata": {},
   "outputs": [],
   "source": [
    "def sim_reg():\n",
    "    sds = [1, 5, 10]\n",
    "    for sd in sds:\n",
    "      reg_data = sim_reg_data(1, 10, 1, 10, 50, sd)\n",
    "      plot_reg(reg_data)\n",
    "    return 'Done'    \n",
    "sim_reg()"
   ]
  },
  {
   "cell_type": "markdown",
   "metadata": {},
   "source": [
    "## Regression with outlier\n",
    "\n",
    "The code cell below does the following:\n",
    "\n",
    "- First the data set, including  single outlier, is included. the outliner is placed in three different locations.\n",
    "- The function then calls the functions to compute the model and evaluate the results.\n",
    "\n",
    "Run the code and examine the effects of the single outlier on the regression results. Noice how each position of the outlier has a distict effect on the result."
   ]
  },
  {
   "cell_type": "code",
   "execution_count": null,
   "metadata": {},
   "outputs": [],
   "source": [
    "def sim_reg_outlier(xmin, xmax, ymin, ymax, n, sd, olX, olY):\n",
    "    import pandas as pd\n",
    "    import numpy.random as nr\n",
    "    \n",
    "    w = nr.normal(loc = 0, scale = sd, size = n)\n",
    "\n",
    "    xstep = float(xmax - xmin)/float(n - 1)\n",
    "    ystep = float(ymax - ymin)/float(n - 1)\n",
    "    \n",
    "    x = []\n",
    "    xcur = xmin\n",
    "    y = []\n",
    "    ycur = ymin \n",
    "    for i in range(n):\n",
    "        x.append(xcur)\n",
    "        xcur += xstep\n",
    "        y.append(ycur + w[i])\n",
    "        ycur += ystep\n",
    "    \n",
    "    x.append(olX)\n",
    "    y.append(olY)\n",
    "    \n",
    "    out = pd.DataFrame([x, y]).transpose()\n",
    "    out.columns = ['x', 'y']    \n",
    "    return out \n",
    "\n",
    "def sim_outlier():\n",
    "    ox = [0, 0, 5]\n",
    "    oy = [10, -10, 10]\n",
    "    for x, y in zip(ox, oy):\n",
    "        reg_data = sim_reg_outlier(1, 10, 1, 10, 50, 1, x, y)\n",
    "        plot_reg(reg_data)\n",
    "    return 'Done' \n",
    "sim_outlier()"
   ]
  },
  {
   "cell_type": "code",
   "execution_count": null,
   "metadata": {
    "collapsed": true
   },
   "outputs": [],
   "source": []
  }
 ],
 "metadata": {
  "anaconda-cloud": {},
  "kernelspec": {
   "display_name": "Python 2",
   "language": "python",
   "name": "python2"
  },
  "language_info": {
   "codemirror_mode": {
    "name": "ipython",
    "version": 2
   },
   "file_extension": ".py",
   "mimetype": "text/x-python",
   "name": "python",
   "nbconvert_exporter": "python",
   "pygments_lexer": "ipython2",
   "version": "2.7.13"
  }
 },
 "nbformat": 4,
 "nbformat_minor": 1
}
